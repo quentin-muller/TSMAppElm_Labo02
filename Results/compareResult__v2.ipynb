{
 "cells": [
  {
   "cell_type": "markdown",
   "metadata": {},
   "source": [
    "# TSM_AppElm Labo02 \n",
    "## conception d'une antenne"
   ]
  },
  {
   "cell_type": "code",
   "execution_count": 1,
   "metadata": {},
   "outputs": [],
   "source": [
    "import numpy as np\n",
    "import pandas as pd\n",
    "import matplotlib.pyplot as plt"
   ]
  },
  {
   "cell_type": "code",
   "execution_count": 37,
   "metadata": {},
   "outputs": [],
   "source": [
    "class findParam:\n",
    "    def __init__(self, data,fres):\n",
    "        self.data = data\n",
    "        self.fres = fres\n",
    "\n",
    "    def findMin(self,data):\n",
    "        val = np.min(data[:,1])\n",
    "        index = np.where(val == data[:,1])\n",
    "        return np.squeeze(data[index])\n",
    "\n",
    "    def findBP(self,data):\n",
    "        tab = np.where(data[:,1] < -10)\n",
    "        BPmin = data[tab[0][0]][0]\n",
    "        BPmax = data[tab[0][len(tab[0])-1]][0]\n",
    "        return BPmin, BPmax\n",
    "\n",
    "    def findFreq(self,data,f,offset=0.06):\n",
    "        tab = np.where((data[:,0] < f+offset) & (data[:,0] > f-offset))\n",
    "        tab2 = data[tab[0]]\n",
    "        return np.mean(tab2[:,1])\n",
    "\n",
    "    def __repr__(self):\n",
    "        vmin = self.findMin(self.data)\n",
    "        fmin, fmax = self.findBP(self.data)\n",
    "        s11F = self.findFreq(self.data,self.fres)\n",
    "        return \"s11 min\\t: \" + str(vmin) + \"\\nBP\\t: \" + str(fmin)+','+str(fmax)+\"\\n@fr\\t: \"+str(s11F)\n",
    "\n",
    "    "
   ]
  },
  {
   "cell_type": "code",
   "execution_count": 38,
   "metadata": {},
   "outputs": [
    {
     "data": {
      "text/html": [
       "<div>\n",
       "<style scoped>\n",
       "    .dataframe tbody tr th:only-of-type {\n",
       "        vertical-align: middle;\n",
       "    }\n",
       "\n",
       "    .dataframe tbody tr th {\n",
       "        vertical-align: top;\n",
       "    }\n",
       "\n",
       "    .dataframe thead th {\n",
       "        text-align: right;\n",
       "    }\n",
       "</style>\n",
       "<table border=\"1\" class=\"dataframe\">\n",
       "  <thead>\n",
       "    <tr style=\"text-align: right;\">\n",
       "      <th></th>\n",
       "      <th>3D Run ID</th>\n",
       "      <th>L</th>\n",
       "      <th>e</th>\n",
       "      <th>h</th>\n",
       "      <th>i</th>\n",
       "      <th>l1</th>\n",
       "      <th>ls</th>\n",
       "      <th>wl</th>\n",
       "      <th>ws</th>\n",
       "    </tr>\n",
       "  </thead>\n",
       "  <tbody>\n",
       "    <tr>\n",
       "      <th>0</th>\n",
       "      <td>1</td>\n",
       "      <td>39.0</td>\n",
       "      <td>0.035</td>\n",
       "      <td>1.6</td>\n",
       "      <td>0.8</td>\n",
       "      <td>4.0</td>\n",
       "      <td>120.0</td>\n",
       "      <td>1.7</td>\n",
       "      <td>30.0</td>\n",
       "    </tr>\n",
       "    <tr>\n",
       "      <th>1</th>\n",
       "      <td>0</td>\n",
       "      <td>NaN</td>\n",
       "      <td>NaN</td>\n",
       "      <td>NaN</td>\n",
       "      <td>NaN</td>\n",
       "      <td>NaN</td>\n",
       "      <td>NaN</td>\n",
       "      <td>NaN</td>\n",
       "      <td>NaN</td>\n",
       "    </tr>\n",
       "  </tbody>\n",
       "</table>\n",
       "</div>"
      ],
      "text/plain": [
       "    3D Run ID     L      e    h    i   l1     ls   wl    ws\n",
       "0           1  39.0  0.035  1.6  0.8  4.0  120.0  1.7  30.0\n",
       "1           0   NaN    NaN  NaN  NaN  NaN    NaN  NaN   NaN"
      ]
     },
     "execution_count": 38,
     "metadata": {},
     "output_type": "execute_result"
    }
   ],
   "source": [
    "dataFR4 = pd.read_csv('result_navigator_fr4_ok.csv',sep=';')\n",
    "dataFR4\n"
   ]
  },
  {
   "cell_type": "code",
   "execution_count": 41,
   "metadata": {},
   "outputs": [
    {
     "data": {
      "text/plain": [
       "s11 min\t: [  2.46399999 -14.23558794]\n",
       "BP\t: 2.3599998950958,2.5759999752045\n",
       "@fr\t: -13.489643818353235"
      ]
     },
     "execution_count": 41,
     "metadata": {},
     "output_type": "execute_result"
    },
    {
     "data": {
      "image/png": "[encoded data removed]",
      "text/plain": [
       "<Figure size 640x480 with 1 Axes>"
      ]
     },
     "metadata": {
      "needs_background": "light"
     },
     "output_type": "display_data"
    }
   ],
   "source": [
    "S11_fr4 = np.genfromtxt('antenne_FR4_mode1.txt',delimiter='\\t',skip_header=1)\n",
    "plt.figure(figsize=(8, 6), dpi=80)\n",
    "plt.plot(S11_fr4[:,0], S11_fr4[:,1])\n",
    "plt.grid()\n",
    "plt.xlabel(\"Fréquence [GHz]\")\n",
    "plt.ylabel(\"[db]\")\n",
    "plt.title(\"Paramètre en S s11\")\n",
    "\n",
    "findParam(S11_fr4, 2.45)"
   ]
  },
  {
   "cell_type": "markdown",
   "metadata": {},
   "source": [
    "## Partie 2 avec de la ceramique"
   ]
  },
  {
   "cell_type": "code",
   "execution_count": 5,
   "metadata": {},
   "outputs": [
    {
     "data": {
      "text/html": [
       "<div>\n",
       "<style scoped>\n",
       "    .dataframe tbody tr th:only-of-type {\n",
       "        vertical-align: middle;\n",
       "    }\n",
       "\n",
       "    .dataframe tbody tr th {\n",
       "        vertical-align: top;\n",
       "    }\n",
       "\n",
       "    .dataframe thead th {\n",
       "        text-align: right;\n",
       "    }\n",
       "</style>\n",
       "<table border=\"1\" class=\"dataframe\">\n",
       "  <thead>\n",
       "    <tr style=\"text-align: right;\">\n",
       "      <th></th>\n",
       "      <th>3D Run ID</th>\n",
       "      <th>L</th>\n",
       "      <th>i</th>\n",
       "      <th>l1</th>\n",
       "      <th>ls</th>\n",
       "      <th>wl</th>\n",
       "      <th>ws</th>\n",
       "    </tr>\n",
       "  </thead>\n",
       "  <tbody>\n",
       "    <tr>\n",
       "      <th>0</th>\n",
       "      <td>1</td>\n",
       "      <td>40.0</td>\n",
       "      <td>0.5</td>\n",
       "      <td>7.65306</td>\n",
       "      <td>100.0</td>\n",
       "      <td>0.2</td>\n",
       "      <td>30.0</td>\n",
       "    </tr>\n",
       "    <tr>\n",
       "      <th>1</th>\n",
       "      <td>2</td>\n",
       "      <td>30.0</td>\n",
       "      <td>0.5</td>\n",
       "      <td>7.65306</td>\n",
       "      <td>100.0</td>\n",
       "      <td>0.2</td>\n",
       "      <td>30.0</td>\n",
       "    </tr>\n",
       "    <tr>\n",
       "      <th>2</th>\n",
       "      <td>3</td>\n",
       "      <td>27.0</td>\n",
       "      <td>0.5</td>\n",
       "      <td>7.65306</td>\n",
       "      <td>100.0</td>\n",
       "      <td>0.2</td>\n",
       "      <td>30.0</td>\n",
       "    </tr>\n",
       "    <tr>\n",
       "      <th>3</th>\n",
       "      <td>4</td>\n",
       "      <td>33.0</td>\n",
       "      <td>0.5</td>\n",
       "      <td>7.65306</td>\n",
       "      <td>100.0</td>\n",
       "      <td>0.2</td>\n",
       "      <td>30.0</td>\n",
       "    </tr>\n",
       "    <tr>\n",
       "      <th>4</th>\n",
       "      <td>5</td>\n",
       "      <td>32.0</td>\n",
       "      <td>0.5</td>\n",
       "      <td>7.65306</td>\n",
       "      <td>100.0</td>\n",
       "      <td>0.2</td>\n",
       "      <td>30.0</td>\n",
       "    </tr>\n",
       "    <tr>\n",
       "      <th>5</th>\n",
       "      <td>6</td>\n",
       "      <td>32.0</td>\n",
       "      <td>0.5</td>\n",
       "      <td>7.65306</td>\n",
       "      <td>100.0</td>\n",
       "      <td>2.0</td>\n",
       "      <td>30.0</td>\n",
       "    </tr>\n",
       "    <tr>\n",
       "      <th>6</th>\n",
       "      <td>7</td>\n",
       "      <td>32.0</td>\n",
       "      <td>1.5</td>\n",
       "      <td>7.65306</td>\n",
       "      <td>100.0</td>\n",
       "      <td>2.0</td>\n",
       "      <td>30.0</td>\n",
       "    </tr>\n",
       "    <tr>\n",
       "      <th>7</th>\n",
       "      <td>8</td>\n",
       "      <td>75.0</td>\n",
       "      <td>1.5</td>\n",
       "      <td>7.65306</td>\n",
       "      <td>100.0</td>\n",
       "      <td>2.0</td>\n",
       "      <td>30.0</td>\n",
       "    </tr>\n",
       "    <tr>\n",
       "      <th>8</th>\n",
       "      <td>9</td>\n",
       "      <td>75.0</td>\n",
       "      <td>1.5</td>\n",
       "      <td>20.40820</td>\n",
       "      <td>100.0</td>\n",
       "      <td>2.0</td>\n",
       "      <td>50.0</td>\n",
       "    </tr>\n",
       "    <tr>\n",
       "      <th>9</th>\n",
       "      <td>10</td>\n",
       "      <td>75.0</td>\n",
       "      <td>0.8</td>\n",
       "      <td>20.40820</td>\n",
       "      <td>100.0</td>\n",
       "      <td>2.0</td>\n",
       "      <td>50.0</td>\n",
       "    </tr>\n",
       "    <tr>\n",
       "      <th>10</th>\n",
       "      <td>11</td>\n",
       "      <td>75.0</td>\n",
       "      <td>0.8</td>\n",
       "      <td>20.40820</td>\n",
       "      <td>80.0</td>\n",
       "      <td>1.7</td>\n",
       "      <td>30.0</td>\n",
       "    </tr>\n",
       "    <tr>\n",
       "      <th>11</th>\n",
       "      <td>12</td>\n",
       "      <td>19.5</td>\n",
       "      <td>0.8</td>\n",
       "      <td>4.00000</td>\n",
       "      <td>120.0</td>\n",
       "      <td>1.7</td>\n",
       "      <td>30.0</td>\n",
       "    </tr>\n",
       "    <tr>\n",
       "      <th>12</th>\n",
       "      <td>13</td>\n",
       "      <td>25.0</td>\n",
       "      <td>0.8</td>\n",
       "      <td>4.00000</td>\n",
       "      <td>120.0</td>\n",
       "      <td>1.7</td>\n",
       "      <td>30.0</td>\n",
       "    </tr>\n",
       "    <tr>\n",
       "      <th>13</th>\n",
       "      <td>14</td>\n",
       "      <td>29.0</td>\n",
       "      <td>0.8</td>\n",
       "      <td>7.00000</td>\n",
       "      <td>120.0</td>\n",
       "      <td>1.7</td>\n",
       "      <td>30.0</td>\n",
       "    </tr>\n",
       "    <tr>\n",
       "      <th>14</th>\n",
       "      <td>15</td>\n",
       "      <td>27.0</td>\n",
       "      <td>0.8</td>\n",
       "      <td>5.00000</td>\n",
       "      <td>120.0</td>\n",
       "      <td>1.7</td>\n",
       "      <td>30.0</td>\n",
       "    </tr>\n",
       "    <tr>\n",
       "      <th>15</th>\n",
       "      <td>16</td>\n",
       "      <td>23.0</td>\n",
       "      <td>0.8</td>\n",
       "      <td>7.00000</td>\n",
       "      <td>120.0</td>\n",
       "      <td>1.7</td>\n",
       "      <td>30.0</td>\n",
       "    </tr>\n",
       "    <tr>\n",
       "      <th>16</th>\n",
       "      <td>17</td>\n",
       "      <td>29.0</td>\n",
       "      <td>0.8</td>\n",
       "      <td>3.00000</td>\n",
       "      <td>120.0</td>\n",
       "      <td>1.7</td>\n",
       "      <td>30.0</td>\n",
       "    </tr>\n",
       "    <tr>\n",
       "      <th>17</th>\n",
       "      <td>18</td>\n",
       "      <td>31.0</td>\n",
       "      <td>0.8</td>\n",
       "      <td>2.00000</td>\n",
       "      <td>100.0</td>\n",
       "      <td>1.7</td>\n",
       "      <td>20.0</td>\n",
       "    </tr>\n",
       "    <tr>\n",
       "      <th>18</th>\n",
       "      <td>19</td>\n",
       "      <td>32.0</td>\n",
       "      <td>0.8</td>\n",
       "      <td>2.00000</td>\n",
       "      <td>100.0</td>\n",
       "      <td>1.7</td>\n",
       "      <td>20.0</td>\n",
       "    </tr>\n",
       "    <tr>\n",
       "      <th>19</th>\n",
       "      <td>0</td>\n",
       "      <td>NaN</td>\n",
       "      <td>NaN</td>\n",
       "      <td>NaN</td>\n",
       "      <td>NaN</td>\n",
       "      <td>NaN</td>\n",
       "      <td>NaN</td>\n",
       "    </tr>\n",
       "  </tbody>\n",
       "</table>\n",
       "</div>"
      ],
      "text/plain": [
       "     3D Run ID     L    i        l1     ls   wl    ws\n",
       "0            1  40.0  0.5   7.65306  100.0  0.2  30.0\n",
       "1            2  30.0  0.5   7.65306  100.0  0.2  30.0\n",
       "2            3  27.0  0.5   7.65306  100.0  0.2  30.0\n",
       "3            4  33.0  0.5   7.65306  100.0  0.2  30.0\n",
       "4            5  32.0  0.5   7.65306  100.0  0.2  30.0\n",
       "5            6  32.0  0.5   7.65306  100.0  2.0  30.0\n",
       "6            7  32.0  1.5   7.65306  100.0  2.0  30.0\n",
       "7            8  75.0  1.5   7.65306  100.0  2.0  30.0\n",
       "8            9  75.0  1.5  20.40820  100.0  2.0  50.0\n",
       "9           10  75.0  0.8  20.40820  100.0  2.0  50.0\n",
       "10          11  75.0  0.8  20.40820   80.0  1.7  30.0\n",
       "11          12  19.5  0.8   4.00000  120.0  1.7  30.0\n",
       "12          13  25.0  0.8   4.00000  120.0  1.7  30.0\n",
       "13          14  29.0  0.8   7.00000  120.0  1.7  30.0\n",
       "14          15  27.0  0.8   5.00000  120.0  1.7  30.0\n",
       "15          16  23.0  0.8   7.00000  120.0  1.7  30.0\n",
       "16          17  29.0  0.8   3.00000  120.0  1.7  30.0\n",
       "17          18  31.0  0.8   2.00000  100.0  1.7  20.0\n",
       "18          19  32.0  0.8   2.00000  100.0  1.7  20.0\n",
       "19           0   NaN  NaN       NaN    NaN  NaN   NaN"
      ]
     },
     "execution_count": 5,
     "metadata": {},
     "output_type": "execute_result"
    }
   ],
   "source": [
    "dataCER = pd.read_csv('result_navigator_cer_ok.csv',sep=';')\n",
    "dataCER\n",
    "#valeur ok 19"
   ]
  },
  {
   "cell_type": "code",
   "execution_count": 46,
   "metadata": {},
   "outputs": [
    {
     "data": {
      "text/plain": [
       "s11 min\t: [  2.51200008 -12.99334341]\n",
       "BP\t: 2.4000000953674,2.6400001049042\n",
       "@fr\t: -11.715565969702753"
      ]
     },
     "execution_count": 46,
     "metadata": {},
     "output_type": "execute_result"
    },
    {
     "data": {
      "image/png": "[encoded data removed]",
      "text/plain": [
       "<Figure size 640x480 with 1 Axes>"
      ]
     },
     "metadata": {
      "needs_background": "light"
     },
     "output_type": "display_data"
    }
   ],
   "source": [
    "S11_cer = np.genfromtxt('antenne_CER_mode1.txt',delimiter='\\t',skip_header=1)\n",
    "plt.figure(figsize=(8, 6), dpi=80)\n",
    "plt.plot(S11_cer[:,0], S11_cer[:,1])\n",
    "plt.grid()\n",
    "plt.xlabel(\"Fréquence [GHz]\")\n",
    "plt.ylabel(\"[db]\")\n",
    "plt.title(\"Paramètre en S s11\")\n",
    "\n",
    "findParam(S11_cer,2.45)"
   ]
  },
  {
   "cell_type": "markdown",
   "metadata": {},
   "source": [
    "## Modification de l'antenne FR4 de 10%"
   ]
  },
  {
   "cell_type": "code",
   "execution_count": 62,
   "metadata": {},
   "outputs": [],
   "source": [
    "legend = [\"original\",\"i\",\"ws\",\"ls\",\"l1\",\"l2\"]"
   ]
  },
  {
   "cell_type": "code",
   "execution_count": 69,
   "metadata": {},
   "outputs": [
    {
     "name": "stdout",
     "output_type": "stream",
     "text": [
      "\n",
      "original\n",
      "s11 min\t: [  2.46399999 -14.23558794]\n",
      "BP\t: 2.3599998950958,2.5759999752045\n",
      "@fr\t: -13.489643818353235\n",
      "\n",
      "i\n",
      "s11 min\t: [  2.46799994 -14.45157431]\n",
      "BP\t: 2.364000082016,2.5880000591278\n",
      "@fr\t: -13.628570346699199\n",
      "\n",
      "ws\n",
      "s11 min\t: [  2.46399999 -14.17606917]\n",
      "BP\t: 2.3599998950958,2.5759999752045\n",
      "@fr\t: -13.440081771748368\n",
      "\n",
      "ls\n",
      "s11 min\t: [  2.46399999 -14.22570741]\n",
      "BP\t: 2.3599998950958,2.5759999752045\n",
      "@fr\t: -13.477996808736332\n",
      "\n",
      "l1\n",
      "s11 min\t: [  2.44000006 -13.30825637]\n",
      "BP\t: 2.3440001010895,2.5439999103546\n",
      "@fr\t: -12.727463830712265\n",
      "\n",
      "l2\n",
      "s11 min\t: [  2.27600002 -15.2657695 ]\n",
      "BP\t: 2.1800000667572,2.3880000114441\n",
      "@fr\t: -7.7672328611058665\n"
     ]
    },
    {
     "data": {
      "image/png": "[encoded data removed]",
      "text/plain": [
       "<Figure size 1200x480 with 1 Axes>"
      ]
     },
     "metadata": {
      "needs_background": "light"
     },
     "output_type": "display_data"
    }
   ],
   "source": [
    "S11_m_fr4 = np.zeros((1001,2,6))\n",
    "\n",
    "plt.figure(figsize=(15, 6), dpi=80)\n",
    "for k in range(0,6):\n",
    "    filename = 'variationsFR4/modificationsFR4_'+ str(k) +'.txt'\n",
    "    S11_m_fr4[:,:,k] = np.genfromtxt(filename,delimiter='\\t',skip_header=1)\n",
    "    plt.plot(S11_m_fr4[:,0,k], S11_m_fr4[:,1,k],label=legend[k])\n",
    "    print('\\n'+legend[k])\n",
    "    print(findParam(S11_m_fr4[:,:,k],2.45))\n",
    "plt.axvline(x = 2.45, color = 'b', label = '$f_{res}$') \n",
    "plt.axhline(y = -10, color = 'r', label = '$BP$') \n",
    "plt.grid()\n",
    "plt.xlabel(\"Fréquence [GHz]\")\n",
    "plt.ylabel(\"[db]\")\n",
    "plt.title(\"Paramètre en S s11\")\n",
    "plt.legend()\n",
    "plt.show()\n"
   ]
  },
  {
   "cell_type": "code",
   "execution_count": null,
   "metadata": {},
   "outputs": [],
   "source": [
    "S11_m_cer = np.zeros((1001,2,6))\n",
    "\n",
    "plt.figure(figsize=(15, 6), dpi=80)\n",
    "for k in range(0,6):\n",
    "    filename = 'variationsCER/modificationsCER_'+ str(k) +'.txt'\n",
    "    S11_m_cer[:,:,k] = np.genfromtxt(filename,delimiter='\\t',skip_header=1)\n",
    "    plt.plot(S11_m_cer[:,0,k], S11_m_cer[:,1,k],label=legend[k])\n",
    "    print('\\n'+legend[k])\n",
    "    print(findParam(S11_m_cer[:,:,k],2.45))\n",
    "plt.axvline(x = 2.45, color = 'b', label = '$f_{res}$') \n",
    "plt.axhline(y = -10, color = 'r', label = '$BP$') \n",
    "plt.grid()\n",
    "plt.xlabel(\"Fréquence [GHz]\")\n",
    "plt.ylabel(\"[db]\")\n",
    "plt.title(\"Paramètre en S s11\")\n",
    "plt.legend()\n",
    "plt.show()"
   ]
  }
 ],
 "metadata": {
  "interpreter": {
   "hash": "1af74b6fd445b57231cb1f4d1d189312d2e0b5c21b4c5b7828a9afbf5c2ec803"
  },
  "kernelspec": {
   "display_name": "Python 3.10.0 64-bit",
   "language": "python",
   "name": "python3"
  },
  "language_info": {
   "codemirror_mode": {
    "name": "ipython",
    "version": 3
   },
   "file_extension": ".py",
   "mimetype": "text/x-python",
   "name": "python",
   "nbconvert_exporter": "python",
   "pygments_lexer": "ipython3",
   "version": "3.10.0"
  },
  "orig_nbformat": 4
 },
 "nbformat": 4,
 "nbformat_minor": 2
}
