{
 "cells": [
  {
   "cell_type": "code",
   "execution_count": 7,
   "metadata": {},
   "outputs": [],
   "source": [
    "import numpy as np\n",
    "import matplotlib.pyplot as plt"
   ]
  },
  {
   "cell_type": "code",
   "execution_count": 8,
   "metadata": {},
   "outputs": [],
   "source": [
    "e = 35e-6\n",
    "h = 1.6e-3\n",
    "c = 3e8\n",
    "fr = 1.575e9 # Fréquence du GPS\n",
    "Lambda = c / fr\n",
    "Zin = 50\n",
    "er = 10\n"
   ]
  },
  {
   "cell_type": "code",
   "execution_count": 9,
   "metadata": {},
   "outputs": [],
   "source": [
    "W = (c/(2*fr))*np.sqrt(2/(er+1))\n",
    "e_reff = ((er+1)/(2)) + ((er-1)/(2)) * (1/np.sqrt(1+((12*h)/(W))))\n",
    "DL = 0.412*h * (er+0.3)/(er-0.258) * ((W/h)+0.264)/((W/h)+0.8)\n",
    "\n",
    "L = (c/(2*fr)) * np.sqrt((1/e_reff)-2*DL)\n",
    "\n"
   ]
  },
  {
   "cell_type": "code",
   "execution_count": 10,
   "metadata": {},
   "outputs": [
    {
     "name": "stdout",
     "output_type": "stream",
     "text": [
      "W   = 40.610\n",
      "e_reff = 9.208\n",
      "D L = 0.683\n",
      "L   = 31.187\n"
     ]
    }
   ],
   "source": [
    "print(\"W   = {:.3f}\".format(W*1e3))\n",
    "print(\"e_reff = {:.3f}\".format(e_reff))\n",
    "print(\"D L = {:.3f}\".format(DL*1e3))\n",
    "print(\"L   = {:.3f}\".format(L*1e3))"
   ]
  },
  {
   "cell_type": "code",
   "execution_count": 11,
   "metadata": {},
   "outputs": [],
   "source": [
    "a = 1\n",
    "b = -4*h*np.exp((Zin * np.sqrt(e_reff))/ 60)\n",
    "c = 32*h**2\n",
    "w0np = ((-b+np.sqrt(b**2-4*a*c)) / (2*a), (-b-np.sqrt(b**2-4*a*c)) / (2*a))\n",
    "w0 = np.min(w0np)"
   ]
  },
  {
   "cell_type": "code",
   "execution_count": 12,
   "metadata": {},
   "outputs": [
    {
     "name": "stdout",
     "output_type": "stream",
     "text": [
      "w0   = 1.034\n",
      "w0/h < 1 : 0.646\n"
     ]
    }
   ],
   "source": [
    "print(\"w0   = {:.3f}\".format(w0*1e3))\n",
    "print(\"w0/h < 1 : {:.3f}\".format(w0/h))"
   ]
  },
  {
   "cell_type": "code",
   "execution_count": null,
   "metadata": {},
   "outputs": [],
   "source": []
  }
 ],
 "metadata": {
  "interpreter": {
   "hash": "2823d83d0138f4e88bebb1ac6893599dadbc35aa0bdabe1fb606adea8faab8b6"
  },
  "kernelspec": {
   "display_name": "Python 3.10.0 64-bit",
   "language": "python",
   "name": "python3"
  },
  "language_info": {
   "codemirror_mode": {
    "name": "ipython",
    "version": 3
   },
   "file_extension": ".py",
   "mimetype": "text/x-python",
   "name": "python",
   "nbconvert_exporter": "python",
   "pygments_lexer": "ipython3",
   "version": "3.10.0"
  },
  "orig_nbformat": 4
 },
 "nbformat": 4,
 "nbformat_minor": 2
}
