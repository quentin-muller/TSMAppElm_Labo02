{
 "cells": [
  {
   "cell_type": "code",
   "execution_count": 2,
   "metadata": {},
   "outputs": [],
   "source": [
    "import numpy as np\n",
    "import matplotlib.pyplot as plt"
   ]
  },
  {
   "cell_type": "code",
   "execution_count": 27,
   "metadata": {},
   "outputs": [],
   "source": [
    "e = 35e-6\n",
    "h = 1.6e-3\n",
    "#w0 = \n",
    "c = 3e8\n",
    "fr = 1.575e9 # Fréquence du GPS\n",
    "er = 4.3\n",
    "Lambda = c / fr"
   ]
  },
  {
   "cell_type": "code",
   "execution_count": 31,
   "metadata": {},
   "outputs": [],
   "source": [
    "W = (c/(2*fr))*np.sqrt(2/(er+1))\n",
    "e_reff = ((er+1)/(2)) + ((er-1)/(2)) * (1/np.sqrt(1+((12*h)/(W))))\n",
    "DL = 0.412*h * (er+0.3)/(er-0.258) * ((W/h)+0.264)/((W/h)+0.8)\n",
    "\n",
    "L = (c/(2*fr)) * np.sqrt((1/e_reff)-2*DL)\n",
    "\n"
   ]
  },
  {
   "cell_type": "code",
   "execution_count": 32,
   "metadata": {},
   "outputs": [
    {
     "name": "stdout",
     "output_type": "stream",
     "text": [
      "W   = 58.504\n",
      "e_reff = 4.082\n",
      "D L = 0.739\n",
      "L   = 46.998\n"
     ]
    }
   ],
   "source": [
    "print(\"W   = {:.3f}\".format(W*1e3))\n",
    "print(\"e_reff = {:.3f}\".format(e_reff))\n",
    "print(\"D L = {:.3f}\".format(DL*1e3))\n",
    "print(\"L   = {:.3f}\".format(L*1e3))"
   ]
  },
  {
   "cell_type": "code",
   "execution_count": 33,
   "metadata": {},
   "outputs": [
    {
     "data": {
      "text/plain": [
       "2.718281828459045"
      ]
     },
     "execution_count": 33,
     "metadata": {},
     "output_type": "execute_result"
    }
   ],
   "source": [
    "np.exp()"
   ]
  },
  {
   "cell_type": "code",
   "execution_count": null,
   "metadata": {},
   "outputs": [],
   "source": []
  }
 ],
 "metadata": {
  "interpreter": {
   "hash": "2823d83d0138f4e88bebb1ac6893599dadbc35aa0bdabe1fb606adea8faab8b6"
  },
  "kernelspec": {
   "display_name": "Python 3.10.0 64-bit",
   "language": "python",
   "name": "python3"
  },
  "language_info": {
   "codemirror_mode": {
    "name": "ipython",
    "version": 3
   },
   "file_extension": ".py",
   "mimetype": "text/x-python",
   "name": "python",
   "nbconvert_exporter": "python",
   "pygments_lexer": "ipython3",
   "version": "3.10.0"
  },
  "orig_nbformat": 4
 },
 "nbformat": 4,
 "nbformat_minor": 2
}
